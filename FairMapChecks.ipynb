{
 "cells": [
  {
   "cell_type": "markdown",
   "id": "revised-floor",
   "metadata": {},
   "source": [
    "-----\n",
    "This Notebook provides some sample code you can use (and extend) to check your maps\n",
    "-----\n",
    "-----"
   ]
  },
  {
   "cell_type": "code",
   "execution_count": null,
   "id": "recent-circle",
   "metadata": {},
   "outputs": [],
   "source": [
    "!pip install geojson\n",
    "import geojson\n",
    "import pandas as pd\n",
    "import numpy as np\n",
    "import random"
   ]
  },
  {
   "cell_type": "markdown",
   "id": "taken-therapy",
   "metadata": {
    "tags": []
   },
   "source": [
    "### Checking Precinct Assignment for my map"
   ]
  },
  {
   "cell_type": "code",
   "execution_count": null,
   "id": "center-husband",
   "metadata": {
    "tags": []
   },
   "outputs": [],
   "source": [
    "#assignment will contain the precinct-district assignments from my map\n",
    "assignment = pd.read_csv('badlypaintedmapexample.csv')\n",
    "#assignment = pd.read_csv('incompletemap.csv')\n",
    "assignment.head(10)"
   ]
  },
  {
   "cell_type": "code",
   "execution_count": null,
   "id": "varying-running",
   "metadata": {},
   "outputs": [],
   "source": [
    "print(f\"- We have {assignment.shape[0]} number of precincts assigned to {assignment.District.nunique()} districts.\")\n",
    "#print(f\"- There are {np.count_nonzero(assignment.isnull().values.ravel())} missing values in the dataset.\\n\")\n",
    "print(f\"- All the precint ids in the dataset are unique is {assignment.shape[0] == assignment.GEOID20.nunique()}\")\n",
    "print(f\"- {6754-assignment.shape[0]} Districts are unassigned (including 415 missing/corrupted precincts)\")"
   ]
  },
  {
   "cell_type": "code",
   "execution_count": null,
   "id": "significant-symphony",
   "metadata": {},
   "outputs": [],
   "source": [
    "#Number of Precincts per district\n",
    "assignment.groupby(by=\"District\").size()"
   ]
  },
  {
   "cell_type": "markdown",
   "id": "seventh-fever",
   "metadata": {},
   "source": [
    "### Analyzing Precinct Data per district"
   ]
  },
  {
   "cell_type": "code",
   "execution_count": null,
   "id": "theoretical-alignment",
   "metadata": {
    "tags": []
   },
   "outputs": [],
   "source": [
    "#pre_data will contain the precinct demographics and historical election data.\n",
    "\n",
    "###final_NJ_2020_State_Legislative_data.csv has the 2020 data\n",
    "pre_data = pd.read_csv('final_NJ_2020_State_Legislative_data.csv')\n",
    "\n",
    "pre_data.head(5)"
   ]
  },
  {
   "cell_type": "code",
   "execution_count": null,
   "id": "e1b790a1",
   "metadata": {},
   "outputs": [],
   "source": []
  },
  {
   "cell_type": "markdown",
   "id": "tribal-excitement",
   "metadata": {
    "tags": []
   },
   "source": [
    "### Calculating the population of each district of my map"
   ]
  },
  {
   "cell_type": "code",
   "execution_count": null,
   "id": "nuclear-hudson",
   "metadata": {
    "tags": []
   },
   "outputs": [],
   "source": [
    "##This code shows you an example of how to calculate the population of a district, you can adapt it to count the partisan support.\n",
    "\n",
    "population=0\n",
    "sum_pop=0\n",
    "for districts in (assignment.groupby(by=\"District\")):\n",
    "    #print(districts)\n",
    "    for precinct in districts[1].iterrows():\n",
    "        #print(precinct[1][0])\n",
    "        if(pre_data.loc[pre_data.GEOID20==str(precinct[1][0]),'Total_2020_TotalAdj'].any()):\n",
    "            population += pre_data.loc[pre_data.GEOID20==str(precinct[1][0]),'Total_2020_TotalAdj'].values[0]\n",
    "            #print(type(population))\n",
    "    print(\"The population of District \"+str(districts[0])+ \" is \"+str(population))\n",
    "    sum_pop+=population\n",
    "    population=0\n",
    "print(\"Total population is \"+str(sum_pop))"
   ]
  },
  {
   "cell_type": "markdown",
   "id": "ambient-louisiana",
   "metadata": {},
   "source": [
    "------\n",
    "Checking the geography of the map\n",
    "------\n",
    "------"
   ]
  },
  {
   "cell_type": "markdown",
   "id": "amazing-legislation",
   "metadata": {},
   "source": [
    "### Are two precincts contiguous?"
   ]
  },
  {
   "cell_type": "code",
   "execution_count": null,
   "id": "liable-comment",
   "metadata": {},
   "outputs": [],
   "source": [
    "!pip install shapely\n",
    "!pip install PyShp"
   ]
  },
  {
   "cell_type": "code",
   "execution_count": null,
   "id": "increasing-protein",
   "metadata": {},
   "outputs": [],
   "source": [
    "import shapefile as shp\n",
    "from shapely.geometry import Polygon,shape,MultiPolygon\n",
    "#import StringIO\n",
    "\n",
    "\n",
    "shpfile = 'nj_vtd_2020_bound.shp'\n",
    "dbffile = 'nj_vtd_2020_bound.dbf'\n",
    "shxfile = 'nj_vtd_2020_bound.shx'\n",
    "shpfile = shp.Reader(shp=shpfile, shx=shxfile, dbf=dbffile)\n",
    "print(shpfile)"
   ]
  },
  {
   "cell_type": "code",
   "execution_count": null,
   "id": "coordinated-fruit",
   "metadata": {},
   "outputs": [],
   "source": [
    "field_names = []\n",
    "for f in shpfile.fields[1:]:\n",
    "    field_names.append((f[0]))\n",
    "print(field_names)\n",
    "\n",
    "precinct_boundaries={}\n",
    "count=0\n",
    "for sr in shpfile.iterShapeRecords():\n",
    "    geom = sr.shape # get geo bit\n",
    "    rec = sr.record # get db fields\n",
    "    precinct_boundaries[rec[3]]=geom\n",
    "    count=count+1\n",
    "    \n",
    "##print the coordinated of a precinct polygon\n",
    "print(Polygon(shape(precinct_boundaries['34003060003'])))"
   ]
  },
  {
   "cell_type": "code",
   "execution_count": null,
   "id": "governing-elements",
   "metadata": {},
   "outputs": [],
   "source": [
    "###Examples\n",
    "a = Polygon(shape(precinct_boundaries['34003060003']))\n",
    "b = Polygon(shape(precinct_boundaries['34007043046']))\n",
    "c = Polygon(shape(precinct_boundaries['34007043047']))\n",
    "\n",
    "#print(shape(precinct_boundaries['34029102002']))\n",
    "                  \n",
    "#b = Polygon(precint_boundaries['34007043046'])\n",
    "print(a.touches(b))\n",
    "print(c.touches(b))"
   ]
  },
  {
   "cell_type": "markdown",
   "id": "advanced-capital",
   "metadata": {},
   "source": [
    "#### Function to check if two precinct overlap (needs precinct_boundaries to be instanciated)"
   ]
  },
  {
   "cell_type": "code",
   "execution_count": null,
   "id": "vocal-central",
   "metadata": {},
   "outputs": [],
   "source": [
    "def is_contiguous_precinct(p1,p2,precinct_boundaries):\n",
    "    #print(shape(precinct_boundaries[p1]).type)\n",
    "    try:\n",
    "        if shape(precinct_boundaries[p1]).type == 'Polygon':\n",
    "            a = Polygon(shape(precinct_boundaries[p1]))\n",
    "        else:\n",
    "            return False\n",
    "        if shape(precinct_boundaries[p2]).type == 'Polygon':\n",
    "            b = Polygon(shape(precinct_boundaries[p2]))\n",
    "        else:\n",
    "            return False\n",
    "        return(a.touches(b))\n",
    "    except KeyError: return False"
   ]
  },
  {
   "cell_type": "code",
   "execution_count": null,
   "id": "laughing-accreditation",
   "metadata": {},
   "outputs": [],
   "source": [
    "print(is_contiguous_precinct('34003060003','34007043046',precinct_boundaries))\n",
    "print(is_contiguous_precinct('34007043047','34007043046',precinct_boundaries))\n",
    "print(is_contiguous_precinct('34003060003','34003060002',precinct_boundaries))\n",
    "print(is_contiguous_precinct('34007043047','34003060003',precinct_boundaries))\n",
    "print(is_contiguous_precinct('34041080003','34005020001',precinct_boundaries))\n",
    "print(is_contiguous_precinct('34041080003','34005075101',precinct_boundaries))\n",
    "\n"
   ]
  },
  {
   "cell_type": "markdown",
   "id": "suspended-double",
   "metadata": {},
   "source": [
    "#### Function to find contiguous districts (needs precinct_boundaries to be instanciated)"
   ]
  },
  {
   "cell_type": "code",
   "execution_count": null,
   "id": "premium-yugoslavia",
   "metadata": {},
   "outputs": [],
   "source": [
    "## This code will tell you how many precinct are contiguous to a given precinct\n",
    "def contiguous_precincts(p1,precinct_boundaries):\n",
    "    count=0\n",
    "    neighbors=[]\n",
    "    #district;\n",
    "    for p in range(0,len(pre_data)):\n",
    "        #print(pre_data.iloc[p].GEOID20)\n",
    "        if(is_contiguous_precinct(p1,pre_data.iloc[p].GEOID20,precinct_boundaries)):\n",
    "            count+=1\n",
    "            neighbors.append(pre_data.iloc[p].GEOID20)\n",
    "    return([count,neighbors])\n"
   ]
  },
  {
   "cell_type": "code",
   "execution_count": null,
   "id": "fewer-response",
   "metadata": {},
   "outputs": [],
   "source": [
    "print(contiguous_precincts('34005070001',precinct_boundaries))\n",
    "print(contiguous_precincts('34041080003',precinct_boundaries))"
   ]
  },
  {
   "cell_type": "code",
   "execution_count": null,
   "id": "prospective-chemical",
   "metadata": {},
   "outputs": [],
   "source": []
  },
  {
   "cell_type": "code",
   "execution_count": null,
   "id": "34b054de-728b-4051-ab57-96b21aae18fb",
   "metadata": {},
   "outputs": [],
   "source": [
    "import pickle\n",
    "picklename = 'FinalPrecinctContiguous.p'\n",
    "contiguous_precincts= pickle.load(open(picklename,\"rb\"))"
   ]
  },
  {
   "cell_type": "code",
   "execution_count": null,
   "id": "ebb868bf",
   "metadata": {},
   "outputs": [],
   "source": [
    "contiguous_precincts\n",
    "#type(contiguous_precincts)"
   ]
  },
  {
   "cell_type": "code",
   "execution_count": null,
   "id": "32b5e32f",
   "metadata": {},
   "outputs": [],
   "source": [
    "# generate useful dictionaries\n",
    "#dictionary of current precinct to district assignments\n",
    "prec_to_dist = {}\n",
    "# dictionary of precinct to blue, red 2016-2021 Comp\n",
    "blue_red_votes = {}\n",
    "# dictionary of population per precinct\n",
    "prec_pop = {}\n",
    "for index, row in pre_data.iterrows():\n",
    "  prec_to_dist[row['GEOID20']] = row['District']\n",
    "  blue_red_votes[row['GEOID20']] = [row['Dem_2016-2021_Comp'], row['Rep_2016-2021_Comp'], row['Total_2016-2021_Comp']]\n",
    "  prec_pop[row['GEOID20']] = row['Total_2020_TotalAdj']"
   ]
  },
  {
   "cell_type": "code",
   "execution_count": null,
   "id": "ff897119",
   "metadata": {},
   "outputs": [],
   "source": [
    "blue_red_votes"
   ]
  },
  {
   "cell_type": "code",
   "execution_count": null,
   "id": "0b802931",
   "metadata": {},
   "outputs": [],
   "source": [
    "districts_votes = {}\n",
    "for i in range(1,41):\n",
    "  districts_votes[i] = [0,0,0]\n",
    "#print(districts_votes)\n",
    "for index, row in pre_data.dropna().iterrows():\n",
    "  districts_votes[row['District']][0] += row['Dem_2016-2021_Comp']\n",
    "  districts_votes[row['District']][1] += row['Rep_2016-2021_Comp']\n",
    "  districts_votes[row['District']][2] += row['Total_2016-2021_Comp']\n",
    "districts_votes"
   ]
  },
  {
   "cell_type": "code",
   "execution_count": null,
   "id": "fbf321a1",
   "metadata": {},
   "outputs": [],
   "source": [
    "# current district to population dictionary\n",
    "district_to_pop = {}\n",
    "population=0\n",
    "# total population\n",
    "total_pop=0\n",
    "for districts in (pre_data.groupby(by=\"District\")):\n",
    "    #print(districts)\n",
    "    for precinct in districts[1].iterrows():\n",
    "        #print(precinct[1][0])\n",
    "        if(pre_data.loc[pre_data.GEOID20==str(precinct[1][0]),'Total_2020_TotalAdj'].any()):\n",
    "            population += pre_data.loc[pre_data.GEOID20==str(precinct[1][0]),'Total_2020_TotalAdj'].values[0]\n",
    "    #print(\"The population of District \"+str(districts[0])+ \" is \"+str(population))\n",
    "    district_to_pop[int(districts[0])] = int(population)\n",
    "    total_pop+=population\n",
    "    population=0\n",
    "#print(\"Total population is \"+str(total_pop))\n",
    "district_to_pop"
   ]
  },
  {
   "cell_type": "code",
   "execution_count": null,
   "id": "ebbbb5b0",
   "metadata": {},
   "outputs": [],
   "source": [
    "avg_pop = int(total_pop/40)\n",
    "print(avg_pop)\n",
    "dev = avg_pop * 0.08\n",
    "max_population = int(avg_pop + dev)\n",
    "print(max_population)\n",
    "min_population = int(avg_pop - dev)\n",
    "print(min_population)\n"
   ]
  },
  {
   "cell_type": "code",
   "execution_count": null,
   "id": "f773c062",
   "metadata": {},
   "outputs": [],
   "source": [
    "# current district to party dictionary\n",
    "count_dem = 0 # counter dem against metric\n",
    "count_rep = 0 # counter rep against metric\n",
    "temp_data = pre_data.groupby(by=\"District\").sum()\n",
    "#temp_data = [tuple(x) for x in temp_data.values.tolist()]\n",
    "\n",
    "print(temp_data)"
   ]
  },
  {
   "cell_type": "code",
   "execution_count": null,
   "id": "2c6b967f",
   "metadata": {},
   "outputs": [],
   "source": [
    "district_to_party = {}\n",
    "#checking what cannot be changed due to current map party leaning (swapping other precinct)\n",
    "for districts, rows in temp_data.iterrows():\n",
    "    party = 0\n",
    "    #print(type(districts))\n",
    "    #print(districts)\n",
    "    total = round(temp_data.loc[districts,'Total_2016-2021_Comp'], 2)\n",
    "    rep = round(temp_data.loc[districts,'Rep_2016-2021_Comp']/total, 2)\n",
    "    dem = round(temp_data.loc[districts,'Dem_2016-2021_Comp']/total , 2)\n",
    "    #total\n",
    "    #print(rep)\n",
    "    #print(dem)\n",
    "    \n",
    "    #0 being can be changed, 1 means cannot be changed\n",
    "    if(dem >= .85 or rep >= .85 ):\n",
    "        party = 1 #1 part\n",
    "        district_to_party[int(rows[0])] = party\n",
    "        if(dem >= .85):\n",
    "            count_dem = count_dem + 1\n",
    "        if(rep >= .85):\n",
    "            count_rep = count_rep + 1\n",
    "\n",
    "    else:\n",
    "        party = 0\n",
    "        district_to_party[int(rows[0])] = party\n",
    "    \n",
    "#print(district_to_party)\n",
    "#len(district_to_party)\n",
    "#print(count_dem)\n",
    "#print(count_rep)\n",
    "#total"
   ]
  },
  {
   "cell_type": "code",
   "execution_count": null,
   "id": "b6900c43",
   "metadata": {},
   "outputs": [],
   "source": [
    "print(count_dem)\n",
    "print(count_rep)"
   ]
  },
  {
   "cell_type": "code",
   "execution_count": null,
   "id": "e344a4b9",
   "metadata": {},
   "outputs": [],
   "source": [
    "district_to_party\n",
    "#type(district_to_party)"
   ]
  },
  {
   "cell_type": "code",
   "execution_count": null,
   "id": "69b75bb1",
   "metadata": {},
   "outputs": [],
   "source": [
    "#update the keys to the district numbers - it's already in order we don't have to worry\n",
    "total_districts_list = len(assignment.groupby(by=\"District\").size())\n",
    "ini_dict = list(range(1,total_districts_list + 1))\n",
    "type(ini_dict)\n",
    "final_dict_to_party = dict(zip(ini_dict,list(district_to_party.values()))) \n",
    "#updated dict district to party\n",
    "final_dict_to_party"
   ]
  },
  {
   "cell_type": "code",
   "execution_count": null,
   "id": "d778726a",
   "metadata": {},
   "outputs": [],
   "source": [
    "#equal amounts for each party\n",
    "count_blue = 14 #currently there are 26 districts that lean blue\n",
    "count_red = 26 #currently there are 14 districts that lean red\n",
    "#first metric if party lean is more than 60% then leave them alone"
   ]
  },
  {
   "cell_type": "code",
   "execution_count": null,
   "id": "a86348cd",
   "metadata": {},
   "outputs": [],
   "source": [
    "def get_random_p():\n",
    "  candidate = random.choice(pre_data['GEOID20'])\n",
    "  return candidate\n",
    "tmp = get_random_p()\n",
    "contiguous_precincts[tmp]"
   ]
  },
  {
   "cell_type": "code",
   "execution_count": null,
   "id": "82ab0e68",
   "metadata": {},
   "outputs": [],
   "source": [
    "#updating current count\n",
    "curr_blue = count_blue - count_dem #how many more dem leaning districts we can have left\n",
    "curr_red = count_rep - count_rep #how many more rep leaning districts we can have left\n",
    "print(curr_blue)\n",
    "print(curr_red)\n"
   ]
  },
  {
   "cell_type": "code",
   "execution_count": null,
   "id": "57e8209e",
   "metadata": {},
   "outputs": [],
   "source": [
    "def find_neighbors(precinct, precinct_to_swap, district,input_list, contiguous_precincts, prec_to_dist): \n",
    "    for ele in contiguous_precincts[precinct]:\n",
    "      if ele != precinct_to_swap and prec_to_dist[ele] == district:\n",
    "        if ele not in input_list:\n",
    "          input_list.append(ele)\n",
    "          return find_neighbors(ele, precinct_to_swap, district, input_list, contiguous_precincts, prec_to_dist)\n",
    "    return input_list"
   ]
  },
  {
   "cell_type": "code",
   "execution_count": null,
   "id": "d7c465c5",
   "metadata": {},
   "outputs": [],
   "source": [
    "blue_red_votes"
   ]
  },
  {
   "cell_type": "code",
   "execution_count": null,
   "id": "d86a3051",
   "metadata": {},
   "outputs": [],
   "source": [
    "considered = 0\n",
    "swap_counter = 0\n",
    "total_left = curr_blue + curr_red\n",
    "for i in range(0,12000):\n",
    "    tmp = get_random_p()\n",
    "    \n",
    "    #check tmp's district whether it can be changed if not we don't check \n",
    "    if(final_dict_to_party[prec_to_dist[tmp]] == 0):\n",
    "        \n",
    "        for p in contiguous_precincts[tmp]:\n",
    "            #get district and party of p\n",
    "            district = prec_to_dist[p]\n",
    "            \n",
    "            #checking whether we can change p's district based on district\n",
    "            if(final_dict_to_party[district] == 0):\n",
    "                #print(district, p)\n",
    "                if prec_to_dist[p] != prec_to_dist[tmp]:\n",
    "                    #need to check neighboring contiguous districts\n",
    "                    considered += 1\n",
    "                    neighbors = contiguous_precincts[tmp]\n",
    "                    neighbors_d = {}\n",
    "                    for o in neighbors:\n",
    "                        check_district = prec_to_dist[o]\n",
    "                        \n",
    "                        #again checking o's district that cannot be changed\n",
    "                        if(final_dict_to_party[district] == 0):\n",
    "                            \n",
    "                            #print(check_district, o)\n",
    "                            if prec_to_dist[o] == prec_to_dist[tmp]:\n",
    "                                d = prec_to_dist[tmp]\n",
    "                                i = find_neighbors(o,tmp,d,[], contiguous_precincts, prec_to_dist)\n",
    "                                neighbors_d[o] = i\n",
    "\n",
    "                        values = list(neighbors_d.values());\n",
    "                        #print(values)\n",
    "                        temp_list = []\n",
    "                        for val in values:\n",
    "                            if val not in temp_list:\n",
    "                                temp_list.append(val)\n",
    "                        if len(temp_list) != 1:\n",
    "                            continue\n",
    "                        #checking voting district\n",
    "                        old_district = prec_to_dist[tmp]\n",
    "                        new_district = prec_to_dist[p]\n",
    "                        \n",
    "                        new_pop = district_to_pop[new_district] + prec_pop[tmp]\n",
    "                        old_pop = district_to_pop[old_district] - prec_pop[tmp]\n",
    "                        \n",
    "                        \n",
    "                        if new_pop in range(min_population, max_population) and old_pop in range(min_population, max_population):\n",
    "                            #blue_red_votes is a dictionary of key:precinct, value: [blue votes, red votes, total]\n",
    "                            #districts_votes is dictionary of key:district, value: [blue votes, red votes, total]\n",
    "                            curr_b = districts_votes[new_district][0] / districts_votes[new_district][2]\n",
    "                            curr_r = districts_votes[new_district][1] / districts_votes[new_district][2]\n",
    "                            new_b = districts_votes[new_district][0] + blue_red_votes[tmp][0] / districts_votes[new_district][2] + blue_red_votes[tmp][2]\n",
    "                            new_r = districts_votes[new_district][1] + blue_red_votes[tmp][1] / districts_votes[new_district][2] + blue_red_votes[tmp][2]\n",
    "                            percentage_b_increase = new_b - curr_b\n",
    "                            percentage_r_increase = new_r - curr_r\n",
    "                        total_left = curr_blue + curr_red \n",
    "                        if((percentage_b_increase > percentage_r_increase) and curr_blue !=0):\n",
    "                            swap_counter += 1\n",
    "                            #swap\n",
    "                            prec_to_dist[tmp] = new_district\n",
    "                            district_to_pop[new_district] = new_pop\n",
    "                            district_to_pop[old_district] = old_pop\n",
    "                            districts_votes[new_district][0] += blue_red_votes[tmp][0]\n",
    "                            districts_votes[new_district][1] += blue_red_votes[tmp][1]\n",
    "                            districts_votes[new_district][2] += blue_red_votes[tmp][2]\n",
    "                            districts_votes[old_district][0] -= blue_red_votes[tmp][0]\n",
    "                            districts_votes[old_district][1] -= blue_red_votes[tmp][1]\n",
    "                            districts_votes[old_district][2] -= blue_red_votes[tmp][2]\n",
    "                            curr_blue = curr_blue - 1\n",
    "                        \n",
    "                        if((percentage_b_increase < percentage_r_increase) and curr_red !=0):\n",
    "                            swap_counter += 1\n",
    "                            #swap\n",
    "                            prec_to_dist[tmp] = new_district\n",
    "                            district_to_pop[new_district] = new_pop\n",
    "                            district_to_pop[old_district] = old_pop\n",
    "                            districts_votes[new_district][0] += blue_red_votes[tmp][0]\n",
    "                            districts_votes[new_district][1] += blue_red_votes[tmp][1]\n",
    "                            districts_votes[new_district][2] += blue_red_votes[tmp][2]\n",
    "                            districts_votes[old_district][0] -= blue_red_votes[tmp][0]\n",
    "                            districts_votes[old_district][1] -= blue_red_votes[tmp][1]\n",
    "                            districts_votes[old_district][2] -= blue_red_votes[tmp][2]\n",
    "                            curr_red = curr_red - 1\n",
    "                            #int = p\n",
    "                            #data_p = access_data(p) #->calling the wrong thin\n",
    "                            #[dem, rep, total]\n",
    "                            #new_total = round((temp_data.loc[new_district,'Total_2016-2021_Comp'] + data[2]), 2)\n",
    "                            #new_rep_avg = round((temp_data.loc[new_district,'Rep_2016-2021_Comp'] + data[1])/total, 2)\n",
    "                            #new_dem_avg = round((temp_data.loc[new_district,'Dem_2016-2021_Comp'] + data[0])/total , 2)\n",
    "                        \n",
    "                            #if(new_rep_avg >= .60 and curr_red != 0):\n",
    "                                #change district and minus the count\n",
    "                                #curr_red = curr_red - 1\n",
    "                               # prec_to_dist[tmp] = new_district\n",
    "                                \n",
    "                            #if(new_dem_avg >= .60 and curr_blue !=0):\n",
    "                                #change district and minus the count\n",
    "                                #curr_blue = curr - 1\n",
    "                                #prec_to_dist[tmp] = new_district\n",
    "                           \n",
    "                    #break\n",
    "    \n",
    "            #dist = final_dict_to_party[prec_to_dist[tmp]]\n",
    "            #print(tmp,dist)\n",
    "            #break\n",
    "    #else:\n",
    "    #    dist = final_dict_to_party[prec_to_dist[tmp]]\n",
    "    #    print(tmp,dist)\n",
    "    #    break\n",
    "    \n",
    "print(swap_counter)\n",
    "print(considered)"
   ]
  },
  {
   "cell_type": "code",
   "execution_count": null,
   "id": "a7f4d37a",
   "metadata": {},
   "outputs": [],
   "source": [
    "prec_to_dist"
   ]
  },
  {
   "cell_type": "code",
   "execution_count": null,
   "id": "94507ef8",
   "metadata": {},
   "outputs": [],
   "source": [
    "missing_p= pre_data.loc[pre_data['Dem_2016-2021_Comp'].isnull(),'GEOID20'].tolist()"
   ]
  },
  {
   "cell_type": "code",
   "execution_count": null,
   "id": "f58e5f9d",
   "metadata": {},
   "outputs": [],
   "source": [
    "for ele in missing_p:\n",
    "  prec_to_dist[ele] = 40"
   ]
  },
  {
   "cell_type": "code",
   "execution_count": null,
   "id": "a2392332",
   "metadata": {},
   "outputs": [],
   "source": [
    "import csv\n",
    "header = ['GEOID20', 'District']\n",
    "with open('testfair14.csv', 'w') as f:\n",
    "    header = ['GEOID20', 'District']\n",
    "    writer = csv.DictWriter(f, fieldnames = header)\n",
    "    writer.writeheader()\n",
    "    for key in prec_to_dist.keys():\n",
    "        f.write(\"%s,%s\\n\"%(key,prec_to_dist[key]))"
   ]
  },
  {
   "cell_type": "code",
   "execution_count": null,
   "id": "eb95e487",
   "metadata": {},
   "outputs": [],
   "source": [
    "#OLD CODE DONT RUN"
   ]
  },
  {
   "cell_type": "code",
   "execution_count": null,
   "id": "01a38473",
   "metadata": {},
   "outputs": [],
   "source": [
    "#here we can merge/recombine and cut population in half (first attempt)\n",
    "#finding what districts are contiguous\n",
    "#import csv\n",
    "\n",
    "#conti_p = {}\n",
    "#for precincts in (assignment.groupby(by=\"GEOID20\")):\n",
    "    #for precinct in districts[1].iterrows():\n",
    "\n",
    "#    p1 = precincts[0]\n",
    "    #print(p1)\n",
    "#    conti_p[p1] = contiguous_precincts(p1, precinct_boundaries)[1]\n",
    "#field_name = ['Precinct', 'Count', 'Neighbors']\n",
    "\n",
    "#with open('conti_p.csv', 'w') as f:\n",
    "#    writer = csv.DictWriter(f, fieldnames=conti_p.keys())\n",
    "#    writer.writeheader()\n",
    "#    writer.writerow(conti_p)"
   ]
  },
  {
   "cell_type": "code",
   "execution_count": null,
   "id": "05daa386",
   "metadata": {},
   "outputs": [],
   "source": [
    "#print(list(conti_p.values()))"
   ]
  },
  {
   "cell_type": "code",
   "execution_count": null,
   "id": "7cc7189d",
   "metadata": {},
   "outputs": [],
   "source": []
  },
  {
   "cell_type": "code",
   "execution_count": null,
   "id": "55da8ce6",
   "metadata": {},
   "outputs": [],
   "source": [
    "#output has to be GEOID20 and district "
   ]
  }
 ],
 "metadata": {
  "kernelspec": {
   "display_name": "Python 3 (ipykernel)",
   "language": "python",
   "name": "python3"
  },
  "language_info": {
   "codemirror_mode": {
    "name": "ipython",
    "version": 3
   },
   "file_extension": ".py",
   "mimetype": "text/x-python",
   "name": "python",
   "nbconvert_exporter": "python",
   "pygments_lexer": "ipython3",
   "version": "3.9.12"
  }
 },
 "nbformat": 4,
 "nbformat_minor": 5
}
