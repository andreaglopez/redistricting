{
 "cells": [
  {
   "cell_type": "markdown",
   "id": "revised-floor",
   "metadata": {},
   "source": [
    "-----\n",
    "This Notebook provides some sample code you can use (and extend) to check your maps\n",
    "-----\n",
    "-----"
   ]
  },
  {
   "cell_type": "code",
   "execution_count": 1,
   "id": "recent-circle",
   "metadata": {},
   "outputs": [
    {
     "name": "stdout",
     "output_type": "stream",
     "text": [
      "Requirement already satisfied: geojson in /Users/andrea/opt/anaconda3/lib/python3.9/site-packages (2.5.0)\r\n"
     ]
    }
   ],
   "source": [
    "!pip install geojson\n",
    "import geojson\n",
    "import pandas as pd\n",
    "import numpy as np"
   ]
  },
  {
   "cell_type": "markdown",
   "id": "taken-therapy",
   "metadata": {
    "tags": []
   },
   "source": [
    "### Checking Precinct Assignment for my map"
   ]
  },
  {
   "cell_type": "code",
   "execution_count": 2,
   "id": "center-husband",
   "metadata": {
    "tags": []
   },
   "outputs": [
    {
     "data": {
      "text/html": [
       "<div>\n",
       "<style scoped>\n",
       "    .dataframe tbody tr th:only-of-type {\n",
       "        vertical-align: middle;\n",
       "    }\n",
       "\n",
       "    .dataframe tbody tr th {\n",
       "        vertical-align: top;\n",
       "    }\n",
       "\n",
       "    .dataframe thead th {\n",
       "        text-align: right;\n",
       "    }\n",
       "</style>\n",
       "<table border=\"1\" class=\"dataframe\">\n",
       "  <thead>\n",
       "    <tr style=\"text-align: right;\">\n",
       "      <th></th>\n",
       "      <th>GEOID20</th>\n",
       "      <th>District</th>\n",
       "    </tr>\n",
       "  </thead>\n",
       "  <tbody>\n",
       "    <tr>\n",
       "      <th>0</th>\n",
       "      <td>34021030004</td>\n",
       "      <td>20</td>\n",
       "    </tr>\n",
       "    <tr>\n",
       "      <th>1</th>\n",
       "      <td>34021030007</td>\n",
       "      <td>1</td>\n",
       "    </tr>\n",
       "    <tr>\n",
       "      <th>2</th>\n",
       "      <td>34021030003</td>\n",
       "      <td>1</td>\n",
       "    </tr>\n",
       "    <tr>\n",
       "      <th>3</th>\n",
       "      <td>34019130002</td>\n",
       "      <td>1</td>\n",
       "    </tr>\n",
       "    <tr>\n",
       "      <th>4</th>\n",
       "      <td>34019130001</td>\n",
       "      <td>1</td>\n",
       "    </tr>\n",
       "    <tr>\n",
       "      <th>5</th>\n",
       "      <td>34019035003</td>\n",
       "      <td>2</td>\n",
       "    </tr>\n",
       "    <tr>\n",
       "      <th>6</th>\n",
       "      <td>34019085002</td>\n",
       "      <td>1</td>\n",
       "    </tr>\n",
       "    <tr>\n",
       "      <th>7</th>\n",
       "      <td>34019035001</td>\n",
       "      <td>1</td>\n",
       "    </tr>\n",
       "    <tr>\n",
       "      <th>8</th>\n",
       "      <td>34019085003</td>\n",
       "      <td>1</td>\n",
       "    </tr>\n",
       "    <tr>\n",
       "      <th>9</th>\n",
       "      <td>34019035005</td>\n",
       "      <td>1</td>\n",
       "    </tr>\n",
       "  </tbody>\n",
       "</table>\n",
       "</div>"
      ],
      "text/plain": [
       "       GEOID20  District\n",
       "0  34021030004        20\n",
       "1  34021030007         1\n",
       "2  34021030003         1\n",
       "3  34019130002         1\n",
       "4  34019130001         1\n",
       "5  34019035003         2\n",
       "6  34019085002         1\n",
       "7  34019035001         1\n",
       "8  34019085003         1\n",
       "9  34019035005         1"
      ]
     },
     "execution_count": 2,
     "metadata": {},
     "output_type": "execute_result"
    }
   ],
   "source": [
    "#assignment will contain the precinct-district assignments from my map\n",
    "assignment = pd.read_csv('badlypaintedmapexample.csv')\n",
    "#assignment = pd.read_csv('incompletemap.csv')\n",
    "assignment.head(10)"
   ]
  },
  {
   "cell_type": "code",
   "execution_count": 3,
   "id": "varying-running",
   "metadata": {},
   "outputs": [
    {
     "name": "stdout",
     "output_type": "stream",
     "text": [
      "- We have 6343 number of precincts assigned to 40 districts.\n",
      "- All the precint ids in the dataset are unique is True\n",
      "- 411 Districts are unassigned (including 415 missing/corrupted precincts)\n"
     ]
    }
   ],
   "source": [
    "print(f\"- We have {assignment.shape[0]} number of precincts assigned to {assignment.District.nunique()} districts.\")\n",
    "#print(f\"- There are {np.count_nonzero(assignment.isnull().values.ravel())} missing values in the dataset.\\n\")\n",
    "print(f\"- All the precint ids in the dataset are unique is {assignment.shape[0] == assignment.GEOID20.nunique()}\")\n",
    "print(f\"- {6754-assignment.shape[0]} Districts are unassigned (including 415 missing/corrupted precincts)\")"
   ]
  },
  {
   "cell_type": "code",
   "execution_count": 4,
   "id": "significant-symphony",
   "metadata": {},
   "outputs": [
    {
     "data": {
      "text/plain": [
       "District\n",
       "1      91\n",
       "2      46\n",
       "3      70\n",
       "4      42\n",
       "5     238\n",
       "6     647\n",
       "7     158\n",
       "8     357\n",
       "9      78\n",
       "10    110\n",
       "11     99\n",
       "12     92\n",
       "13    467\n",
       "14    251\n",
       "15    242\n",
       "16      5\n",
       "17    790\n",
       "18    300\n",
       "19     62\n",
       "20    129\n",
       "21    184\n",
       "22     58\n",
       "23    375\n",
       "24    304\n",
       "25     56\n",
       "26    133\n",
       "27     53\n",
       "28     50\n",
       "29     77\n",
       "30     92\n",
       "31     42\n",
       "32     96\n",
       "33     26\n",
       "34     60\n",
       "35     42\n",
       "36    104\n",
       "37     16\n",
       "38    147\n",
       "39     83\n",
       "40     71\n",
       "dtype: int64"
      ]
     },
     "execution_count": 4,
     "metadata": {},
     "output_type": "execute_result"
    }
   ],
   "source": [
    "#Number of Precincts per district\n",
    "assignment.groupby(by=\"District\").size()"
   ]
  },
  {
   "cell_type": "markdown",
   "id": "seventh-fever",
   "metadata": {},
   "source": [
    "### Analyzing Precinct Data per district"
   ]
  },
  {
   "cell_type": "code",
   "execution_count": 5,
   "id": "theoretical-alignment",
   "metadata": {
    "tags": []
   },
   "outputs": [
    {
     "data": {
      "text/html": [
       "<div>\n",
       "<style scoped>\n",
       "    .dataframe tbody tr th:only-of-type {\n",
       "        vertical-align: middle;\n",
       "    }\n",
       "\n",
       "    .dataframe tbody tr th {\n",
       "        vertical-align: top;\n",
       "    }\n",
       "\n",
       "    .dataframe thead th {\n",
       "        text-align: right;\n",
       "    }\n",
       "</style>\n",
       "<table border=\"1\" class=\"dataframe\">\n",
       "  <thead>\n",
       "    <tr style=\"text-align: right;\">\n",
       "      <th></th>\n",
       "      <th>GEOID20</th>\n",
       "      <th>District</th>\n",
       "      <th>FriendlyId</th>\n",
       "      <th>Total_2016-2021_Comp</th>\n",
       "      <th>Dem_2016-2021_Comp</th>\n",
       "      <th>Rep_2016-2021_Comp</th>\n",
       "      <th>Total_2021_Gov</th>\n",
       "      <th>Dem_2021_Gov</th>\n",
       "      <th>Rep_2021_Gov</th>\n",
       "      <th>Total_2020_Sen</th>\n",
       "      <th>...</th>\n",
       "      <th>VTDI20</th>\n",
       "      <th>NAME20</th>\n",
       "      <th>NAMELSAD20</th>\n",
       "      <th>LSAD20</th>\n",
       "      <th>MTFCC20</th>\n",
       "      <th>FUNCSTAT20</th>\n",
       "      <th>ALAND20</th>\n",
       "      <th>AWATER20</th>\n",
       "      <th>INTPTLAT20</th>\n",
       "      <th>INTPTLON20</th>\n",
       "    </tr>\n",
       "  </thead>\n",
       "  <tbody>\n",
       "    <tr>\n",
       "      <th>0</th>\n",
       "      <td>34033020001</td>\n",
       "      <td>3</td>\n",
       "      <td>34033020001</td>\n",
       "      <td>523.0</td>\n",
       "      <td>103.0</td>\n",
       "      <td>409.0</td>\n",
       "      <td>484.0</td>\n",
       "      <td>93.0</td>\n",
       "      <td>385.0</td>\n",
       "      <td>589.0</td>\n",
       "      <td>...</td>\n",
       "      <td>P</td>\n",
       "      <td>Lower Alloways Creek township voting district 1</td>\n",
       "      <td>Lower Alloways Creek township voting district 1</td>\n",
       "      <td>0.0</td>\n",
       "      <td>G5240</td>\n",
       "      <td>S</td>\n",
       "      <td>67138130.0</td>\n",
       "      <td>45124792.0</td>\n",
       "      <td>39.488403</td>\n",
       "      <td>-75.477086</td>\n",
       "    </tr>\n",
       "    <tr>\n",
       "      <th>1</th>\n",
       "      <td>34033001501</td>\n",
       "      <td>3</td>\n",
       "      <td>34033001501</td>\n",
       "      <td>570.0</td>\n",
       "      <td>172.0</td>\n",
       "      <td>386.0</td>\n",
       "      <td>473.0</td>\n",
       "      <td>136.0</td>\n",
       "      <td>334.0</td>\n",
       "      <td>664.0</td>\n",
       "      <td>...</td>\n",
       "      <td>A</td>\n",
       "      <td>Elsinboro township voting district 1</td>\n",
       "      <td>Elsinboro township voting district 1</td>\n",
       "      <td>0.0</td>\n",
       "      <td>G5240</td>\n",
       "      <td>N</td>\n",
       "      <td>30901777.0</td>\n",
       "      <td>3656526.0</td>\n",
       "      <td>39.533317</td>\n",
       "      <td>-75.498478</td>\n",
       "    </tr>\n",
       "    <tr>\n",
       "      <th>2</th>\n",
       "      <td>34033042009</td>\n",
       "      <td>3</td>\n",
       "      <td>34033042009</td>\n",
       "      <td>669.0</td>\n",
       "      <td>211.0</td>\n",
       "      <td>443.0</td>\n",
       "      <td>440.0</td>\n",
       "      <td>106.0</td>\n",
       "      <td>329.0</td>\n",
       "      <td>867.0</td>\n",
       "      <td>...</td>\n",
       "      <td>A</td>\n",
       "      <td>Pennsville township voting district 9</td>\n",
       "      <td>Pennsville township voting district 9</td>\n",
       "      <td>0.0</td>\n",
       "      <td>G5240</td>\n",
       "      <td>N</td>\n",
       "      <td>28489413.0</td>\n",
       "      <td>7652453.0</td>\n",
       "      <td>39.597819</td>\n",
       "      <td>-75.511333</td>\n",
       "    </tr>\n",
       "    <tr>\n",
       "      <th>3</th>\n",
       "      <td>34033000703</td>\n",
       "      <td>3</td>\n",
       "      <td>34033000703</td>\n",
       "      <td>456.0</td>\n",
       "      <td>220.0</td>\n",
       "      <td>228.0</td>\n",
       "      <td>254.0</td>\n",
       "      <td>106.0</td>\n",
       "      <td>148.0</td>\n",
       "      <td>631.0</td>\n",
       "      <td>...</td>\n",
       "      <td>A</td>\n",
       "      <td>Carneys Point township voting district 3</td>\n",
       "      <td>Carneys Point township voting district 3</td>\n",
       "      <td>0.0</td>\n",
       "      <td>G5240</td>\n",
       "      <td>N</td>\n",
       "      <td>5014278.0</td>\n",
       "      <td>267398.0</td>\n",
       "      <td>39.687697</td>\n",
       "      <td>-75.473822</td>\n",
       "    </tr>\n",
       "    <tr>\n",
       "      <th>4</th>\n",
       "      <td>34033042001</td>\n",
       "      <td>3</td>\n",
       "      <td>34033042001</td>\n",
       "      <td>714.0</td>\n",
       "      <td>286.0</td>\n",
       "      <td>413.0</td>\n",
       "      <td>993.0</td>\n",
       "      <td>467.0</td>\n",
       "      <td>513.0</td>\n",
       "      <td>647.0</td>\n",
       "      <td>...</td>\n",
       "      <td>A</td>\n",
       "      <td>Pennsville township voting district 1</td>\n",
       "      <td>Pennsville township voting district 1</td>\n",
       "      <td>0.0</td>\n",
       "      <td>G5240</td>\n",
       "      <td>N</td>\n",
       "      <td>6777631.0</td>\n",
       "      <td>751223.0</td>\n",
       "      <td>39.671387</td>\n",
       "      <td>-75.494625</td>\n",
       "    </tr>\n",
       "  </tbody>\n",
       "</table>\n",
       "<p>5 rows × 131 columns</p>\n",
       "</div>"
      ],
      "text/plain": [
       "       GEOID20  District   FriendlyId  Total_2016-2021_Comp  \\\n",
       "0  34033020001         3  34033020001                 523.0   \n",
       "1  34033001501         3  34033001501                 570.0   \n",
       "2  34033042009         3  34033042009                 669.0   \n",
       "3  34033000703         3  34033000703                 456.0   \n",
       "4  34033042001         3  34033042001                 714.0   \n",
       "\n",
       "   Dem_2016-2021_Comp  Rep_2016-2021_Comp  Total_2021_Gov  Dem_2021_Gov  \\\n",
       "0               103.0               409.0           484.0          93.0   \n",
       "1               172.0               386.0           473.0         136.0   \n",
       "2               211.0               443.0           440.0         106.0   \n",
       "3               220.0               228.0           254.0         106.0   \n",
       "4               286.0               413.0           993.0         467.0   \n",
       "\n",
       "   Rep_2021_Gov  Total_2020_Sen  ...  VTDI20  \\\n",
       "0         385.0           589.0  ...       P   \n",
       "1         334.0           664.0  ...       A   \n",
       "2         329.0           867.0  ...       A   \n",
       "3         148.0           631.0  ...       A   \n",
       "4         513.0           647.0  ...       A   \n",
       "\n",
       "                                            NAME20  \\\n",
       "0  Lower Alloways Creek township voting district 1   \n",
       "1             Elsinboro township voting district 1   \n",
       "2            Pennsville township voting district 9   \n",
       "3         Carneys Point township voting district 3   \n",
       "4            Pennsville township voting district 1   \n",
       "\n",
       "                                        NAMELSAD20  LSAD20  MTFCC20  \\\n",
       "0  Lower Alloways Creek township voting district 1     0.0    G5240   \n",
       "1             Elsinboro township voting district 1     0.0    G5240   \n",
       "2            Pennsville township voting district 9     0.0    G5240   \n",
       "3         Carneys Point township voting district 3     0.0    G5240   \n",
       "4            Pennsville township voting district 1     0.0    G5240   \n",
       "\n",
       "   FUNCSTAT20     ALAND20    AWATER20  INTPTLAT20  INTPTLON20  \n",
       "0           S  67138130.0  45124792.0   39.488403  -75.477086  \n",
       "1           N  30901777.0   3656526.0   39.533317  -75.498478  \n",
       "2           N  28489413.0   7652453.0   39.597819  -75.511333  \n",
       "3           N   5014278.0    267398.0   39.687697  -75.473822  \n",
       "4           N   6777631.0    751223.0   39.671387  -75.494625  \n",
       "\n",
       "[5 rows x 131 columns]"
      ]
     },
     "execution_count": 5,
     "metadata": {},
     "output_type": "execute_result"
    }
   ],
   "source": [
    "#pre_data will contain the precinct demographics and historical election data.\n",
    "\n",
    "###final_NJ_2020_State_Legislative_data.csv has the 2020 data\n",
    "pre_data = pd.read_csv('final_NJ_2020_State_Legislative_data.csv')\n",
    "\n",
    "pre_data.head(5)"
   ]
  },
  {
   "cell_type": "code",
   "execution_count": 6,
   "id": "e1b790a1",
   "metadata": {},
   "outputs": [
    {
     "ename": "KeyError",
     "evalue": "''",
     "output_type": "error",
     "traceback": [
      "\u001b[0;31m---------------------------------------------------------------------------\u001b[0m",
      "\u001b[0;31mKeyError\u001b[0m                                  Traceback (most recent call last)",
      "File \u001b[0;32m~/opt/anaconda3/lib/python3.9/site-packages/pandas/core/indexes/base.py:3621\u001b[0m, in \u001b[0;36mIndex.get_loc\u001b[0;34m(self, key, method, tolerance)\u001b[0m\n\u001b[1;32m   3620\u001b[0m \u001b[38;5;28;01mtry\u001b[39;00m:\n\u001b[0;32m-> 3621\u001b[0m     \u001b[38;5;28;01mreturn\u001b[39;00m \u001b[38;5;28;43mself\u001b[39;49m\u001b[38;5;241;43m.\u001b[39;49m\u001b[43m_engine\u001b[49m\u001b[38;5;241;43m.\u001b[39;49m\u001b[43mget_loc\u001b[49m\u001b[43m(\u001b[49m\u001b[43mcasted_key\u001b[49m\u001b[43m)\u001b[49m\n\u001b[1;32m   3622\u001b[0m \u001b[38;5;28;01mexcept\u001b[39;00m \u001b[38;5;167;01mKeyError\u001b[39;00m \u001b[38;5;28;01mas\u001b[39;00m err:\n",
      "File \u001b[0;32m~/opt/anaconda3/lib/python3.9/site-packages/pandas/_libs/index.pyx:136\u001b[0m, in \u001b[0;36mpandas._libs.index.IndexEngine.get_loc\u001b[0;34m()\u001b[0m\n",
      "File \u001b[0;32m~/opt/anaconda3/lib/python3.9/site-packages/pandas/_libs/index.pyx:163\u001b[0m, in \u001b[0;36mpandas._libs.index.IndexEngine.get_loc\u001b[0;34m()\u001b[0m\n",
      "File \u001b[0;32mpandas/_libs/hashtable_class_helper.pxi:5198\u001b[0m, in \u001b[0;36mpandas._libs.hashtable.PyObjectHashTable.get_item\u001b[0;34m()\u001b[0m\n",
      "File \u001b[0;32mpandas/_libs/hashtable_class_helper.pxi:5206\u001b[0m, in \u001b[0;36mpandas._libs.hashtable.PyObjectHashTable.get_item\u001b[0;34m()\u001b[0m\n",
      "\u001b[0;31mKeyError\u001b[0m: ''",
      "\nThe above exception was the direct cause of the following exception:\n",
      "\u001b[0;31mKeyError\u001b[0m                                  Traceback (most recent call last)",
      "Input \u001b[0;32mIn [6]\u001b[0m, in \u001b[0;36m<cell line: 1>\u001b[0;34m()\u001b[0m\n\u001b[0;32m----> 1\u001b[0m \u001b[43mpre_data\u001b[49m\u001b[43m[\u001b[49m\u001b[38;5;124;43m'\u001b[39;49m\u001b[38;5;124;43m'\u001b[39;49m\u001b[43m]\u001b[49m\n",
      "File \u001b[0;32m~/opt/anaconda3/lib/python3.9/site-packages/pandas/core/frame.py:3505\u001b[0m, in \u001b[0;36mDataFrame.__getitem__\u001b[0;34m(self, key)\u001b[0m\n\u001b[1;32m   3503\u001b[0m \u001b[38;5;28;01mif\u001b[39;00m \u001b[38;5;28mself\u001b[39m\u001b[38;5;241m.\u001b[39mcolumns\u001b[38;5;241m.\u001b[39mnlevels \u001b[38;5;241m>\u001b[39m \u001b[38;5;241m1\u001b[39m:\n\u001b[1;32m   3504\u001b[0m     \u001b[38;5;28;01mreturn\u001b[39;00m \u001b[38;5;28mself\u001b[39m\u001b[38;5;241m.\u001b[39m_getitem_multilevel(key)\n\u001b[0;32m-> 3505\u001b[0m indexer \u001b[38;5;241m=\u001b[39m \u001b[38;5;28;43mself\u001b[39;49m\u001b[38;5;241;43m.\u001b[39;49m\u001b[43mcolumns\u001b[49m\u001b[38;5;241;43m.\u001b[39;49m\u001b[43mget_loc\u001b[49m\u001b[43m(\u001b[49m\u001b[43mkey\u001b[49m\u001b[43m)\u001b[49m\n\u001b[1;32m   3506\u001b[0m \u001b[38;5;28;01mif\u001b[39;00m is_integer(indexer):\n\u001b[1;32m   3507\u001b[0m     indexer \u001b[38;5;241m=\u001b[39m [indexer]\n",
      "File \u001b[0;32m~/opt/anaconda3/lib/python3.9/site-packages/pandas/core/indexes/base.py:3623\u001b[0m, in \u001b[0;36mIndex.get_loc\u001b[0;34m(self, key, method, tolerance)\u001b[0m\n\u001b[1;32m   3621\u001b[0m     \u001b[38;5;28;01mreturn\u001b[39;00m \u001b[38;5;28mself\u001b[39m\u001b[38;5;241m.\u001b[39m_engine\u001b[38;5;241m.\u001b[39mget_loc(casted_key)\n\u001b[1;32m   3622\u001b[0m \u001b[38;5;28;01mexcept\u001b[39;00m \u001b[38;5;167;01mKeyError\u001b[39;00m \u001b[38;5;28;01mas\u001b[39;00m err:\n\u001b[0;32m-> 3623\u001b[0m     \u001b[38;5;28;01mraise\u001b[39;00m \u001b[38;5;167;01mKeyError\u001b[39;00m(key) \u001b[38;5;28;01mfrom\u001b[39;00m \u001b[38;5;21;01merr\u001b[39;00m\n\u001b[1;32m   3624\u001b[0m \u001b[38;5;28;01mexcept\u001b[39;00m \u001b[38;5;167;01mTypeError\u001b[39;00m:\n\u001b[1;32m   3625\u001b[0m     \u001b[38;5;66;03m# If we have a listlike key, _check_indexing_error will raise\u001b[39;00m\n\u001b[1;32m   3626\u001b[0m     \u001b[38;5;66;03m#  InvalidIndexError. Otherwise we fall through and re-raise\u001b[39;00m\n\u001b[1;32m   3627\u001b[0m     \u001b[38;5;66;03m#  the TypeError.\u001b[39;00m\n\u001b[1;32m   3628\u001b[0m     \u001b[38;5;28mself\u001b[39m\u001b[38;5;241m.\u001b[39m_check_indexing_error(key)\n",
      "\u001b[0;31mKeyError\u001b[0m: ''"
     ]
    }
   ],
   "source": [
    "pre_data['']"
   ]
  },
  {
   "cell_type": "markdown",
   "id": "tribal-excitement",
   "metadata": {
    "tags": []
   },
   "source": [
    "### Calculating the population of each district of my map"
   ]
  },
  {
   "cell_type": "code",
   "execution_count": null,
   "id": "nuclear-hudson",
   "metadata": {
    "tags": []
   },
   "outputs": [],
   "source": [
    "##This code shows you an example of how to calculate the population of a district, you can adapt it to count the partisan support.\n",
    "\n",
    "population=0\n",
    "sum_pop=0\n",
    "for districts in (assignment.groupby(by=\"District\")):\n",
    "    #print(districts)\n",
    "    for precinct in districts[1].iterrows():\n",
    "        #print(precinct[1][0])\n",
    "        if(pre_data.loc[pre_data.GEOID20==str(precinct[1][0]),'Total_2020_TotalAdj'].any()):\n",
    "            population += pre_data.loc[pre_data.GEOID20==str(precinct[1][0]),'Total_2020_TotalAdj'].values[0]\n",
    "            #print(type(population))\n",
    "    print(\"The population of District \"+str(districts[0])+ \" is \"+str(population))\n",
    "    sum_pop+=population\n",
    "    population=0\n",
    "print(\"Total population is \"+str(sum_pop))"
   ]
  },
  {
   "cell_type": "markdown",
   "id": "ambient-louisiana",
   "metadata": {},
   "source": [
    "------\n",
    "Checking the geography of the map\n",
    "------\n",
    "------"
   ]
  },
  {
   "cell_type": "markdown",
   "id": "amazing-legislation",
   "metadata": {},
   "source": [
    "### Are two precincts contiguous?"
   ]
  },
  {
   "cell_type": "code",
   "execution_count": null,
   "id": "liable-comment",
   "metadata": {},
   "outputs": [],
   "source": [
    "!pip install shapely\n",
    "!pip install PyShp"
   ]
  },
  {
   "cell_type": "code",
   "execution_count": null,
   "id": "increasing-protein",
   "metadata": {},
   "outputs": [],
   "source": [
    "import shapefile as shp\n",
    "from shapely.geometry import Polygon,shape,MultiPolygon\n",
    "#import StringIO\n",
    "\n",
    "\n",
    "shpfile = 'nj_vtd_2020_bound.shp'\n",
    "dbffile = 'nj_vtd_2020_bound.dbf'\n",
    "shxfile = 'nj_vtd_2020_bound.shx'\n",
    "shpfile = shp.Reader(shp=shpfile, shx=shxfile, dbf=dbffile)\n",
    "print(shpfile)"
   ]
  },
  {
   "cell_type": "code",
   "execution_count": null,
   "id": "coordinated-fruit",
   "metadata": {},
   "outputs": [],
   "source": [
    "field_names = []\n",
    "for f in shpfile.fields[1:]:\n",
    "    field_names.append((f[0]))\n",
    "print(field_names)\n",
    "\n",
    "precinct_boundaries={}\n",
    "count=0\n",
    "for sr in shpfile.iterShapeRecords():\n",
    "    geom = sr.shape # get geo bit\n",
    "    rec = sr.record # get db fields\n",
    "    precinct_boundaries[rec[3]]=geom\n",
    "    count=count+1\n",
    "    \n",
    "##print the coordinated of a precinct polygon\n",
    "print(Polygon(shape(precinct_boundaries['34003060003'])))"
   ]
  },
  {
   "cell_type": "code",
   "execution_count": null,
   "id": "governing-elements",
   "metadata": {},
   "outputs": [],
   "source": [
    "###Examples\n",
    "a = Polygon(shape(precinct_boundaries['34003060003']))\n",
    "b = Polygon(shape(precinct_boundaries['34007043046']))\n",
    "c = Polygon(shape(precinct_boundaries['34007043047']))\n",
    "\n",
    "#print(shape(precinct_boundaries['34029102002']))\n",
    "                  \n",
    "#b = Polygon(precint_boundaries['34007043046'])\n",
    "print(a.touches(b))\n",
    "print(c.touches(b))"
   ]
  },
  {
   "cell_type": "markdown",
   "id": "advanced-capital",
   "metadata": {},
   "source": [
    "#### Function to check if two precinct overlap (needs precinct_boundaries to be instanciated)"
   ]
  },
  {
   "cell_type": "code",
   "execution_count": null,
   "id": "vocal-central",
   "metadata": {},
   "outputs": [],
   "source": [
    "def is_contiguous_precinct(p1,p2,precinct_boundaries):\n",
    "    #print(shape(precinct_boundaries[p1]).type)\n",
    "    try:\n",
    "        if shape(precinct_boundaries[p1]).type == 'Polygon':\n",
    "            a = Polygon(shape(precinct_boundaries[p1]))\n",
    "        else:\n",
    "            return False\n",
    "        if shape(precinct_boundaries[p2]).type == 'Polygon':\n",
    "            b = Polygon(shape(precinct_boundaries[p2]))\n",
    "        else:\n",
    "            return False\n",
    "        return(a.touches(b))\n",
    "    except KeyError: return False"
   ]
  },
  {
   "cell_type": "code",
   "execution_count": null,
   "id": "laughing-accreditation",
   "metadata": {},
   "outputs": [],
   "source": [
    "print(is_contiguous_precinct('34003060003','34007043046',precinct_boundaries))\n",
    "print(is_contiguous_precinct('34007043047','34007043046',precinct_boundaries))\n",
    "print(is_contiguous_precinct('34003060003','34003060002',precinct_boundaries))\n",
    "print(is_contiguous_precinct('34007043047','34003060003',precinct_boundaries))\n",
    "print(is_contiguous_precinct('34041080003','34005020001',precinct_boundaries))\n",
    "print(is_contiguous_precinct('34041080003','34005075101',precinct_boundaries))\n",
    "\n"
   ]
  },
  {
   "cell_type": "markdown",
   "id": "suspended-double",
   "metadata": {},
   "source": [
    "#### Function to find contiguous districts (needs precinct_boundaries to be instanciated)"
   ]
  },
  {
   "cell_type": "code",
   "execution_count": null,
   "id": "premium-yugoslavia",
   "metadata": {},
   "outputs": [],
   "source": [
    "## This code will tell you how many precinct are contiguous to a given precinct\n",
    "def contiguous_precincts(p1,precinct_boundaries):\n",
    "    count=0\n",
    "    neighbors=[]\n",
    "    #district;\n",
    "    for p in range(0,len(pre_data)):\n",
    "        #print(pre_data.iloc[p].GEOID20)\n",
    "        if(is_contiguous_precinct(p1,pre_data.iloc[p].GEOID20,precinct_boundaries)):\n",
    "            count+=1\n",
    "            neighbors.append(pre_data.iloc[p].GEOID20)\n",
    "    return([count,neighbors])\n"
   ]
  },
  {
   "cell_type": "code",
   "execution_count": null,
   "id": "fewer-response",
   "metadata": {},
   "outputs": [],
   "source": [
    "print(contiguous_precincts('34005070001',precinct_boundaries))\n",
    "print(contiguous_precincts('34041080003',precinct_boundaries))"
   ]
  },
  {
   "cell_type": "code",
   "execution_count": null,
   "id": "prospective-chemical",
   "metadata": {},
   "outputs": [],
   "source": []
  },
  {
   "cell_type": "code",
   "execution_count": 7,
   "id": "34b054de-728b-4051-ab57-96b21aae18fb",
   "metadata": {},
   "outputs": [],
   "source": [
    "import pickle\n",
    "picklename = 'FinalPrecinctContiguous.p'\n",
    "contiguous_precincts= pickle.load(open(picklename,\"rb\"))"
   ]
  },
  {
   "cell_type": "code",
   "execution_count": 17,
   "id": "0f361581",
   "metadata": {},
   "outputs": [
    {
     "data": {
      "text/plain": [
       "6754"
      ]
     },
     "execution_count": 17,
     "metadata": {},
     "output_type": "execute_result"
    }
   ],
   "source": [
    "contiguous_precincts\n",
    "type(contiguous_precincts)\n"
   ]
  },
  {
   "cell_type": "code",
   "execution_count": null,
   "id": "891cc1ae",
   "metadata": {},
   "outputs": [],
   "source": []
  },
  {
   "cell_type": "code",
   "execution_count": null,
   "id": "6fd2f197",
   "metadata": {},
   "outputs": [],
   "source": []
  },
  {
   "cell_type": "code",
   "execution_count": null,
   "id": "d10bcae4",
   "metadata": {},
   "outputs": [],
   "source": []
  },
  {
   "cell_type": "code",
   "execution_count": null,
   "id": "190a3b02",
   "metadata": {},
   "outputs": [],
   "source": []
  },
  {
   "cell_type": "code",
   "execution_count": null,
   "id": "3b346cb7",
   "metadata": {},
   "outputs": [],
   "source": []
  },
  {
   "cell_type": "code",
   "execution_count": null,
   "id": "a8e5889e",
   "metadata": {},
   "outputs": [],
   "source": []
  },
  {
   "cell_type": "code",
   "execution_count": null,
   "id": "872e4eb5",
   "metadata": {},
   "outputs": [],
   "source": []
  },
  {
   "cell_type": "code",
   "execution_count": null,
   "id": "01a38473",
   "metadata": {},
   "outputs": [],
   "source": [
    "#here we can merge/recombine and cut population in half (first attempt)\n",
    "#finding what districts are contiguous\n",
    "import csv\n",
    "\n",
    "conti_p = {}\n",
    "for precincts in (assignment.groupby(by=\"GEOID20\")):\n",
    "    #for precinct in districts[1].iterrows():\n",
    "\n",
    "    p1 = precincts[0]\n",
    "    #print(p1)\n",
    "    conti_p[p1] = contiguous_precincts(p1, precinct_boundaries)[1]\n",
    "#field_name = ['Precinct', 'Count', 'Neighbors']\n",
    "\n",
    "#with open('conti_p.csv', 'w') as csvfile:\n",
    "#    writer = csv.DictWriter(csvfile, fieldnames = field_names)\n",
    "#    writer.writeheader()\n",
    "#    for data in conti_p:\n",
    "#            writer.writerow(data)"
   ]
  },
  {
   "cell_type": "code",
   "execution_count": null,
   "id": "05daa386",
   "metadata": {},
   "outputs": [],
   "source": [
    "print(list(conti_p.values()))"
   ]
  },
  {
   "cell_type": "code",
   "execution_count": null,
   "id": "6b39bdca",
   "metadata": {},
   "outputs": [],
   "source": [
    "with open('conti_p.csv', 'w') as f:\n",
    "    writer = csv.DictWriter(f, fieldnames=conti_p.keys())\n",
    "    writer.writeheader()\n",
    "    writer.writerow(conti_p)"
   ]
  },
  {
   "cell_type": "code",
   "execution_count": null,
   "id": "57c33429",
   "metadata": {},
   "outputs": [],
   "source": [
    "def contiguous_districts(p1,precinct_boundaries):\n",
    "    count=0\n",
    "    neighbors=[]\n",
    "    for p in range(0,len(pre_data)):\n",
    "        district = 0;\n",
    "        #print(pre_data.iloc[p].GEOID20)\n",
    "        if(is_contiguous_precinct(p1,pre_data.iloc[p].GEOID20,precinct_boundaries)):\n",
    "            count+=1\n",
    "            neighbors.append(pre_data.iloc[p].GEOID20)\n",
    "            district = pre_data.iloc[p].District\n",
    "    return([count,neighbors, district])"
   ]
  },
  {
   "cell_type": "code",
   "execution_count": null,
   "id": "4ad00477",
   "metadata": {},
   "outputs": [],
   "source": [
    "print(contiguous_districts('34005070001',precinct_boundaries))\n",
    "print(contiguous_districts('34041080003',precinct_boundaries))"
   ]
  },
  {
   "cell_type": "code",
   "execution_count": null,
   "id": "0a6c07ac",
   "metadata": {},
   "outputs": [],
   "source": [
    "#gerrymandering method\n"
   ]
  },
  {
   "cell_type": "code",
   "execution_count": null,
   "id": "1b006f19",
   "metadata": {},
   "outputs": [],
   "source": []
  },
  {
   "cell_type": "code",
   "execution_count": null,
   "id": "1d657957",
   "metadata": {},
   "outputs": [],
   "source": []
  },
  {
   "cell_type": "code",
   "execution_count": null,
   "id": "55da8ce6",
   "metadata": {},
   "outputs": [],
   "source": [
    "#output has to be GEOID20 and district "
   ]
  }
 ],
 "metadata": {
  "kernelspec": {
   "display_name": "Python 3 (ipykernel)",
   "language": "python",
   "name": "python3"
  },
  "language_info": {
   "codemirror_mode": {
    "name": "ipython",
    "version": 3
   },
   "file_extension": ".py",
   "mimetype": "text/x-python",
   "name": "python",
   "nbconvert_exporter": "python",
   "pygments_lexer": "ipython3",
   "version": "3.9.12"
  }
 },
 "nbformat": 4,
 "nbformat_minor": 5
}
